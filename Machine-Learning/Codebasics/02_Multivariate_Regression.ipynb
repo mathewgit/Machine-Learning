{
  "nbformat": 4,
  "nbformat_minor": 0,
  "metadata": {
    "colab": {
      "name": "02_Multivariate Regression.ipynb",
      "provenance": [],
      "authorship_tag": "ABX9TyOGtqqYiOS6r8zjUXBVdU7Y",
      "include_colab_link": true
    },
    "kernelspec": {
      "name": "python3",
      "display_name": "Python 3"
    },
    "language_info": {
      "name": "python"
    }
  },
  "cells": [
    {
      "cell_type": "markdown",
      "metadata": {
        "id": "view-in-github",
        "colab_type": "text"
      },
      "source": [
        "<a href=\"https://colab.research.google.com/github/mathewgit/Machine-Learning/blob/main/Machine-Learning/Codebasics/02_Multivariate_Regression.ipynb\" target=\"_parent\"><img src=\"https://colab.research.google.com/assets/colab-badge.svg\" alt=\"Open In Colab\"/></a>"
      ]
    },
    {
      "cell_type": "code",
      "execution_count": null,
      "metadata": {
        "id": "hE3JJv-gFWGh"
      },
      "outputs": [],
      "source": [
        ""
      ]
    }
  ]
}